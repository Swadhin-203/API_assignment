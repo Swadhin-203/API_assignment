{
 "cells": [
  {
   "cell_type": "markdown",
   "id": "2e15f66f",
   "metadata": {},
   "source": [
    "Q1. What is an API? Give an example, where an API is used in real life.\n",
    "Ans:API means Application Program Interface.It act as an interface between two homogenous or heterogenous applicatiion.It is a set of definitions and protocols for building and integrating application software. A real life example of the API is  in action is the vast array of bots available on Twitter. Twitter bots are accounts that tweet (or retweet), follow, and send direct messages in response to software commands. "
   ]
  },
  {
   "cell_type": "markdown",
   "id": "52343775",
   "metadata": {},
   "source": [
    "Q2. Give advantages and disadvantages of using API.\n",
    "Ans:\n",
    "Advantages:-Efficiency: When you have content that is automatically published and made available on different channels simultaneously, APIs allow for more efficient data distribution. Adaptability: One of the greatest benefits of APIs is the ability it has to adapt to changes through data migration and flexibility of services.\n",
    "Disadvantages:-As a single point of entry, an API is a gateway and can become a hacker's primary target. Once the API is compromised, all other applications and systems become vulnerable"
   ]
  },
  {
   "cell_type": "markdown",
   "id": "0efc61b4",
   "metadata": {},
   "source": [
    "Q3. What is a Web API? Differentiate between API and Web API.\n",
    "Ans:Web API is a API which is used HTPP protocol.The main difference between API and Web API is ,the web API is a subset of the API which is used the HTPP protocol and there API is various of types which is used TCP,SMTP,HTPP ETC."
   ]
  },
  {
   "cell_type": "markdown",
   "id": "c77dbe0e",
   "metadata": {},
   "source": [
    "Q4. Explain REST and SOAP Architecture. Mention shortcomings of SOAP.\n",
    "Ans:SOAP is a protocol which was designed before REST and came into the picture. The main idea behind designing SOAP was to ensure that programs built on different platforms and programming languages could exchange data in an easy manner. SOAP stands for Simple Object Access Protocol.\n",
    "REST was designed specifically for working with components such as media components, files, or even objects on a particular hardware device. Any web service that is defined on the principles of REST can be called a RestFul web service. A Restful service would use the normal HTTP verbs of GET, POST, PUT and DELETE for working with the required components. REST stands for Representational State Transfer.\n",
    "Short Comings of the SOAP are:SOAP is a protocol. SOAP was designed with a specification. It includes a WSDL file which has the required information on what the web service does in addition to the location of the web service."
   ]
  },
  {
   "cell_type": "markdown",
   "id": "d3737514",
   "metadata": {},
   "source": [
    "Q5. Differentiate between REST and SOAP.\n",
    "Ans:SOAP:-\n",
    "1.SOAP stands for Simple Object Access Protocol.\n",
    "2.SOAP is a protocol. SOAP was designed with a specification. It includes a WSDL file which has the required information on what the web service does in addition to the location of the web service.\n",
    "3.SOAP cannot make use of REST since SOAP is a protocol and REST is an architectural pattern.\n",
    "4.SOAP can only work with XML format. As seen from SOAP messages, all data passed is in XML format.\n",
    "5.SOAP requires more bandwidth for its usage. Since SOAP Messages contain a lot of information inside of it, the amount of data transfer using SOAP is generally a lot.\n",
    "\n",
    "REST:-\n",
    "1.REST stands for Representational State Transfer\n",
    "2.REST is an Architectural style in which a web service can only be treated as a RESTful service if it follows the constraints of being Client Server,Stateless,Cacheable,Layered System,Uniform Interface.\n",
    "3.REST can make use of SOAP as the underlying protocol for web services, because in the end it is just an architectural pattern.\n",
    "4.REST permits different data format such as Plain text, HTML, XML, JSON, etc. But the most preferred format for transferring data is JSON.\n",
    "5.REST does not need much bandwidth when requests are sent to the server. REST messages mostly just consist of JSON messages. \n"
   ]
  },
  {
   "cell_type": "code",
   "execution_count": null,
   "id": "f45ffb5e",
   "metadata": {},
   "outputs": [],
   "source": []
  },
  {
   "cell_type": "code",
   "execution_count": null,
   "id": "20beaa2e",
   "metadata": {},
   "outputs": [],
   "source": []
  },
  {
   "cell_type": "code",
   "execution_count": null,
   "id": "79bd9219",
   "metadata": {},
   "outputs": [],
   "source": []
  },
  {
   "cell_type": "code",
   "execution_count": null,
   "id": "d721a83d",
   "metadata": {},
   "outputs": [],
   "source": []
  },
  {
   "cell_type": "code",
   "execution_count": null,
   "id": "acb338ad",
   "metadata": {},
   "outputs": [],
   "source": []
  }
 ],
 "metadata": {
  "kernelspec": {
   "display_name": "Python 3 (ipykernel)",
   "language": "python",
   "name": "python3"
  },
  "language_info": {
   "codemirror_mode": {
    "name": "ipython",
    "version": 3
   },
   "file_extension": ".py",
   "mimetype": "text/x-python",
   "name": "python",
   "nbconvert_exporter": "python",
   "pygments_lexer": "ipython3",
   "version": "3.10.5"
  }
 },
 "nbformat": 4,
 "nbformat_minor": 5
}
